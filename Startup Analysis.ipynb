{
 "cells": [
  {
   "cell_type": "code",
   "execution_count": 2,
   "metadata": {},
   "outputs": [],
   "source": [
    "import numpy as np\n",
    "import pandas as pd\n",
    "import matplotlib.pyplot as plt\n",
    "import seaborn as sns\n",
    "%matplotlib inline"
   ]
  },
  {
   "cell_type": "code",
   "execution_count": null,
   "metadata": {},
   "outputs": [],
   "source": [
    "sns.set()\n",
    "data = pd.read_excel('P1-StartupExpansion.xlsx')"
   ]
  },
  {
   "cell_type": "code",
   "execution_count": null,
   "metadata": {},
   "outputs": [],
   "source": [
    "data.head()"
   ]
  },
  {
   "cell_type": "code",
   "execution_count": null,
   "metadata": {},
   "outputs": [],
   "source": [
    "data.info()"
   ]
  },
  {
   "cell_type": "code",
   "execution_count": null,
   "metadata": {},
   "outputs": [],
   "source": [
    "data.columns"
   ]
  },
  {
   "cell_type": "code",
   "execution_count": null,
   "metadata": {},
   "outputs": [],
   "source": [
    "data.groupby('State').describe()['Revenue']['mean'].round(0)"
   ]
  },
  {
   "cell_type": "code",
   "execution_count": null,
   "metadata": {},
   "outputs": [],
   "source": [
    "# plt.rcParams['font.size'] = 9.0\n",
    "fig = plt.figure(figsize=(15,15))\n",
    "sns.barplot(y=data['State'].unique(),x=data.groupby('State').describe()['Revenue']['mean'].round(0),data=data)\n",
    "plt.xticks(fontsize=14)\n",
    "plt.yticks(fontsize=14)\n",
    "plt.xlabel('States',fontSize=20)\n",
    "plt.ylabel('Average Revenue',fontSize=20)\n",
    "plt.title('Average Revenue per State',fontSize=32)\n",
    "plt.tight_layout()\n",
    "plt.savefig('Average Revenue.png')"
   ]
  },
  {
   "cell_type": "code",
   "execution_count": null,
   "metadata": {},
   "outputs": [],
   "source": [
    "data.head()"
   ]
  },
  {
   "cell_type": "code",
   "execution_count": null,
   "metadata": {},
   "outputs": [],
   "source": [
    "sns.scatterplot(x='Revenue',y='Marketing Spend',data=data,hue='Sales Region')\n",
    "plt.title('Comparison b/w Revenue and Marketing Spend')\n",
    "# plt.legend(loc=(1.05,0.75))\n",
    "plt.savefig('Revenue-Spend.png')"
   ]
  },
  {
   "cell_type": "code",
   "execution_count": null,
   "metadata": {},
   "outputs": [],
   "source": [
    "sns.distplot(data['Revenue'],kde=False,bins=10)\n",
    "plt.title('Distribution Chart of Revenue')\n",
    "plt.savefig('Revenue Distribution.png')"
   ]
  },
  {
   "cell_type": "code",
   "execution_count": null,
   "metadata": {},
   "outputs": [],
   "source": [
    "data.head()"
   ]
  },
  {
   "cell_type": "code",
   "execution_count": null,
   "metadata": {},
   "outputs": [],
   "source": [
    "data.corr()[1:][['Marketing Spend','Revenue']]"
   ]
  },
  {
   "cell_type": "code",
   "execution_count": null,
   "metadata": {},
   "outputs": [],
   "source": [
    "sns.swarmplot(x='Sales Region',y='Marketing Spend',data=data)\n",
    "plt.savefig('Sales Region Comparison.png')"
   ]
  },
  {
   "cell_type": "code",
   "execution_count": null,
   "metadata": {},
   "outputs": [],
   "source": [
    "#City with Highest Revenue\n",
    "data[data['Revenue']==data['Revenue'].max()][['City','State','Marketing Spend','Revenue']]"
   ]
  },
  {
   "cell_type": "code",
   "execution_count": null,
   "metadata": {},
   "outputs": [],
   "source": [
    "#City with Lowest Revenue\n",
    "data[data['Revenue']==data['Revenue'].min()][['City','State','Marketing Spend','Revenue']]"
   ]
  },
  {
   "cell_type": "code",
   "execution_count": null,
   "metadata": {},
   "outputs": [],
   "source": [
    "#City with Highest Marketing Spend\n",
    "data[data['Marketing Spend']==data['Marketing Spend'].max()][['City','State','Marketing Spend','Revenue']]"
   ]
  },
  {
   "cell_type": "code",
   "execution_count": null,
   "metadata": {},
   "outputs": [],
   "source": [
    "#City with Lowest Marketing Spend\n",
    "data[data['Marketing Spend']==data['Marketing Spend'].min()][['City','State','Marketing Spend','Revenue']]"
   ]
  },
  {
   "cell_type": "code",
   "execution_count": null,
   "metadata": {},
   "outputs": [],
   "source": [
    "#Cities with low marketing spend than average and high revenue than average\n",
    "major_data = data[(data['Marketing Spend']<data['Marketing Spend'].mean()) & (data['Revenue']>data['Revenue'].mean())]"
   ]
  },
  {
   "cell_type": "code",
   "execution_count": null,
   "metadata": {},
   "outputs": [],
   "source": [
    "bar_data = major_data.groupby('State',as_index=False).count().sort_values(by='Revenue',ascending=False).reset_index()[['State','City']]\n",
    "\n",
    "# By this data we can say that California is most suitable city for most successfull startups with low spend,followed by Washington"
   ]
  },
  {
   "cell_type": "code",
   "execution_count": null,
   "metadata": {},
   "outputs": [],
   "source": [
    "sns.scatterplot(x='Revenue',y='Marketing Spend',data=major_data,hue='Sales Region')\n",
    "plt.xlim(data['Revenue'].min(),data['Revenue'].max())\n",
    "plt.ylim(data['Marketing Spend'].min(),data['Marketing Spend'].max())\n",
    "plt.title('States with low Marketing Bugdet and High Profit Based on Region')\n",
    "plt.savefig('ProfitableStatesRev.png')"
   ]
  },
  {
   "cell_type": "code",
   "execution_count": null,
   "metadata": {},
   "outputs": [],
   "source": [
    "plt.figure(figsize=(10,8))\n",
    "sns.barplot(x='City',y='State',data=bar_data,color='blue')\n",
    "plt.title('Most Successful States in terms of less spend and high profit')\n",
    "plt.xlabel('Count')\n",
    "plt.savefig('ProfitableStates.png')"
   ]
  },
  {
   "cell_type": "code",
   "execution_count": null,
   "metadata": {},
   "outputs": [],
   "source": []
  },
  {
   "cell_type": "code",
   "execution_count": null,
   "metadata": {},
   "outputs": [],
   "source": []
  }
 ],
 "metadata": {
  "kernelspec": {
   "display_name": "Python 3",
   "language": "python",
   "name": "python3"
  },
  "language_info": {
   "codemirror_mode": {
    "name": "ipython",
    "version": 3
   },
   "file_extension": ".py",
   "mimetype": "text/x-python",
   "name": "python",
   "nbconvert_exporter": "python",
   "pygments_lexer": "ipython3",
   "version": "3.7.0"
  }
 },
 "nbformat": 4,
 "nbformat_minor": 2
}
